{
 "cells": [
  {
   "cell_type": "code",
   "execution_count": 1,
   "metadata": {},
   "outputs": [
    {
     "name": "stderr",
     "output_type": "stream",
     "text": [
      "\u001b[32m\u001b[1m Activating\u001b[22m\u001b[39m environment at `~/jianguoyun/Workspace/SmartParser/Project.toml`\n",
      "┌ Info: Precompiling SmartParser [286a8d42-4b94-434a-8a6f-23eaeb4e0727]\n",
      "└ @ Base loading.jl:1278\n"
     ]
    }
   ],
   "source": [
    "using Pkg\n",
    "Pkg.activate(\"/home/dabajabaza/jianguoyun/Workspace/SmartParser/\")\n",
    "\n",
    "using SmartParser\n",
    "\n",
    "using Profile"
   ]
  },
  {
   "cell_type": "code",
   "execution_count": 2,
   "metadata": {},
   "outputs": [
    {
     "data": {
      "text/plain": [
       "build_structure_tree (generic function with 1 method)"
      ]
     },
     "execution_count": 2,
     "metadata": {},
     "output_type": "execute_result"
    }
   ],
   "source": [
    "function build_structure_tree(fn)\n",
    "    lines, lines1, patts, code = load_file(fn) ;\n",
    "    if length(lines)==0\n",
    "        return String[], String[], Multiline(), code\n",
    "    end\n",
    "    B = build_block_init(patts) ;\n",
    "    B  = find_block(B) ;\n",
    "    B  = loop_correct_1_1_until_stable(B) ;\n",
    "    #B  = find_block(B) ;\n",
    "    #B  = loop_correct_1_1_until_stable(B) ;\n",
    "    return lines, lines1, B, code\n",
    "end"
   ]
  },
  {
   "cell_type": "code",
   "execution_count": 3,
   "metadata": {},
   "outputs": [
    {
     "data": {
      "text/plain": [
       "5-element Array{String,1}:\n",
       " \"/home/dabajabaza/jianguoyun/Workspace/SmartParser/test/test4.pw.x.out\"\n",
       " \"/home/dabajabaza/jianguoyun/Workspace/SmartParser/test/test3.pwdry.x.out\"\n",
       " \"/home/dabajabaza/jianguoyun/Workspace/SmartParser/test/test1.pw.x.out\"\n",
       " \"/home/dabajabaza/jianguoyun/Workspace/SmartParser/test/test2.ph.x.out\"\n",
       " \"/home/dabajabaza/jianguoyun/Workspace/SmartParser/test/lammps.log\""
      ]
     },
     "execution_count": 3,
     "metadata": {},
     "output_type": "execute_result"
    }
   ],
   "source": [
    "fns = [\n",
    "    \"/home/dabajabaza/jianguoyun/Workspace/SmartParser/test/test4.pw.x.out\" ,\n",
    "    \"/home/dabajabaza/jianguoyun/Workspace/SmartParser/test/test3.pwdry.x.out\" ,\n",
    "    \"/home/dabajabaza/jianguoyun/Workspace/SmartParser/test/test1.pw.x.out\" ,\n",
    "    \"/home/dabajabaza/jianguoyun/Workspace/SmartParser/test/test2.ph.x.out\",\n",
    "    \"/home/dabajabaza/jianguoyun/Workspace/SmartParser/test/lammps.log\" ,\n",
    "]"
   ]
  },
  {
   "cell_type": "code",
   "execution_count": 4,
   "metadata": {},
   "outputs": [
    {
     "name": "stdout",
     "output_type": "stream",
     "text": [
      "  0.099379 seconds (172.72 k allocations: 27.502 MiB)\n"
     ]
    },
    {
     "name": "stderr",
     "output_type": "stream",
     "text": [
      "┌ Info: M1.x=206:221 , M.x=206:237 , M.n=2\n",
      "└ @ SmartParser /home/dabajabaza/jianguoyun/Workspace/SmartParser/src/find_block.jl:105\n"
     ]
    }
   ],
   "source": [
    "Profile.init(n = 10^8, delay = 0.002)\n",
    "Profile.clear()\n",
    "@profile  lines, lines1, B, code = build_structure_tree(fns[4]) ;"
   ]
  },
  {
   "cell_type": "code",
   "execution_count": 5,
   "metadata": {
    "scrolled": false
   },
   "outputs": [],
   "source": []
  },
  {
   "cell_type": "code",
   "execution_count": 6,
   "metadata": {},
   "outputs": [],
   "source": [
    "data = copy( Profile.fetch() ) ;\n",
    "\n",
    "open(\"profile.use_copy.txt\",\"w\") do f \n",
    "    Profile.print(f, data, format=:flat, mincount=400)\n",
    "end"
   ]
  },
  {
   "cell_type": "code",
   "execution_count": null,
   "metadata": {},
   "outputs": [],
   "source": []
  },
  {
   "cell_type": "code",
   "execution_count": null,
   "metadata": {},
   "outputs": [],
   "source": [
    "DATA = []\n",
    "\n",
    "\n",
    "for fn in fns\n",
    "    @info fn\n",
    "    lines, lines1, B, code = build_structure_tree(fn) ;\n",
    "    codeinv = revert(code) ;\n",
    "    BD = parse_file(B, lines, lines1, codeinv) ;\n",
    "    push!(DATA, (BD, B, code, codeinv, lines, lines1))\n",
    "    NL = block_print(B, lines1, offset=0, mute=true) ;\n",
    "    open(\"$(fn).replaced.txt\",\"w\") do f\n",
    "        write(f,join(NL,\"\\n\"))\n",
    "    end\n",
    "end"
   ]
  },
  {
   "cell_type": "code",
   "execution_count": null,
   "metadata": {},
   "outputs": [],
   "source": []
  },
  {
   "cell_type": "code",
   "execution_count": null,
   "metadata": {},
   "outputs": [],
   "source": [
    "\n",
    "function search_kw_in_tree_data(t::Multiline, kw)\n",
    "    f(x) = ((x isa Multiline) ? [[]] : ([[v for (k,v) in data if k==kw] for data in x.DATA]))\n",
    "    return [(i,x) for (i,x) in enumerate(collect_action_dfs(t,f)) if unique(x)!=[[]]]\n",
    "end\n",
    "\n",
    "\n",
    "function block_by_kw(t::Multiline, kw)\n",
    "    @inline kw_in_sl(kw,sl) = length([1 for data in sl.DATA for (k,v) ∈ data if k==kw])>0\n",
    "    h(x) = ((x[2] isa Multiline) \n",
    "                ? vcat( # pick the correct block (labelled by 1)\n",
    "                        [CD[first.(CD).==1] for CD in x[1]]...,  \n",
    "                        # and itself if there is any children returns [(0,nothing)]\n",
    "                        (any([kw_in_sl(kw,sl) for sl in children(x[2]) if (sl isa Singleline)]) ? [(1,x[2])] : []) )\n",
    "                : [] )\n",
    "    DFS(t, x->nothing, x->nothing, h)\n",
    "end\n",
    "\n",
    "\n",
    "function generate_line(patt::Vector{Int}, codeinv::Dict, data)\n",
    "    if patt==[999999999,]\n",
    "        @assert unique(first.(data))==[\"£\",]\n",
    "        return join(string.(last.(data)), \"  \")\n",
    "    else\n",
    "        line = []\n",
    "        idata = 1\n",
    "        Ndata = length(data)\n",
    "        #@show [codeinv[p] for p ∈ patt]\n",
    "        for p ∈ patt\n",
    "            w = codeinv[p]\n",
    "            @assert  w != \"£++++++++++++++++\"\n",
    "            if idata<=Ndata && w==data[idata][1]  # found data,\n",
    "                #  replace p by data\n",
    "                push!(line, string(data[idata][2]))  \n",
    "                idata += 1\n",
    "            else\n",
    "                push!(line, w)\n",
    "            end\n",
    "        end\n",
    "        return join(line, \"  \")\n",
    "    end\n",
    "end\n",
    "\n",
    "\n",
    "function reconstruct_file(DATATREE::Multiline, codeinv::Dict)\n",
    "    single_line_reconstr(y) = [generate_line(y[2].p, codeinv, y[2].DATA[i]) for i=1:y[2].n]\n",
    "    multi_line_reconstr(y)  = vcat(y[1]...)\n",
    "    line_reconstr(y) = ((y[2] isa Singleline) ? single_line_reconstr(y) : multi_line_reconstr(y))\n",
    "    DFS(DATATREE, identity, identity, line_reconstr)\n",
    "end\n"
   ]
  }
 ],
 "metadata": {
  "kernelspec": {
   "display_name": "Julia 1.5.3",
   "language": "julia",
   "name": "julia-1.5"
  },
  "language_info": {
   "file_extension": ".jl",
   "mimetype": "application/julia",
   "name": "julia",
   "version": "1.5.3"
  }
 },
 "nbformat": 4,
 "nbformat_minor": 4
}

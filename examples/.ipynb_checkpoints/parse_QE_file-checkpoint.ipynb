{
 "cells": [
  {
   "cell_type": "code",
   "execution_count": 1,
   "metadata": {},
   "outputs": [
    {
     "name": "stderr",
     "output_type": "stream",
     "text": [
      "\u001b[32m\u001b[1m Activating\u001b[22m\u001b[39m environment at `~/jianguoyun/Workspace/SmartParser/Project.toml`\n",
      "┌ Info: Precompiling SmartParser [286a8d42-4b94-434a-8a6f-23eaeb4e0727]\n",
      "└ @ Base loading.jl:1278\n"
     ]
    }
   ],
   "source": [
    "using Pkg\n",
    "#Pkg.add(\"SmartParser\")\n",
    "Pkg.activate(\"/home/dabajabaza/jianguoyun/Workspace/SmartParser/\")\n",
    "\n",
    "using SmartParser"
   ]
  },
  {
   "cell_type": "code",
   "execution_count": 2,
   "metadata": {},
   "outputs": [],
   "source": [
    "fn = \"ReO3.ph.x.out\"\n",
    "ReO3_raw = split(read(fn,String),\"\\n\", keepempty=false) ;"
   ]
  },
  {
   "cell_type": "code",
   "execution_count": 3,
   "metadata": {
    "scrolled": true
   },
   "outputs": [
    {
     "name": "stdout",
     "output_type": "stream",
     "text": [
      "  1.285744 seconds (4.28 M allocations: 309.552 MiB, 3.50% gc time)\n"
     ]
    }
   ],
   "source": [
    "@time F = structurize_file(fn) ;"
   ]
  },
  {
   "cell_type": "code",
   "execution_count": 4,
   "metadata": {},
   "outputs": [
    {
     "data": {
      "text/plain": [
       "433394"
      ]
     },
     "execution_count": 4,
     "metadata": {},
     "output_type": "execute_result"
    }
   ],
   "source": [
    "NL = block_print(F.B, F.LINES, offset=0, mute=true) ;\n",
    "open(\"$(fn).replaced.txt\",\"w\") do f\n",
    "    write(f,join(NL,\"\\n\"))\n",
    "end"
   ]
  },
  {
   "cell_type": "markdown",
   "metadata": {},
   "source": [
    "# example 1 : extact modes"
   ]
  },
  {
   "cell_type": "code",
   "execution_count": 122,
   "metadata": {},
   "outputs": [
    {
     "data": {
      "text/plain": [
       "hc (generic function with 1 method)"
      ]
     },
     "execution_count": 122,
     "metadata": {},
     "output_type": "execute_result"
    }
   ],
   "source": [
    "parseI(x) = parse(Int,x)\n",
    "parseF(x) = parse(Float64,x)\n",
    "parseEval(x) = eval(Meta.parse(x))\n",
    "vc(x) = vcat(x...)\n",
    "hc(x) = hcat(x...)"
   ]
  },
  {
   "cell_type": "code",
   "execution_count": null,
   "metadata": {},
   "outputs": [],
   "source": []
  },
  {
   "cell_type": "markdown",
   "metadata": {},
   "source": [
    "## 1.1 block starts with \"autoval\""
   ]
  },
  {
   "cell_type": "code",
   "execution_count": 123,
   "metadata": {},
   "outputs": [
    {
     "name": "stdout",
     "output_type": "stream",
     "text": [
      "  0.000343 seconds (2.60 k allocations: 220.219 KiB)\n"
     ]
    }
   ],
   "source": [
    "@time modes = get_n_blocks_by_code(F.B, F.CODE[\"autoval\"], n=4) ;\n",
    "@assert findall(x->occursin(\"autoval\",x), ReO3_raw) == first.(first.(modes[1][2].DATA))"
   ]
  },
  {
   "cell_type": "code",
   "execution_count": 124,
   "metadata": {},
   "outputs": [
    {
     "name": "stdout",
     "output_type": "stream",
     "text": [
      "  0.004487 seconds (2.85 k allocations: 140.877 KiB)\n"
     ]
    }
   ],
   "source": [
    "@time autoval = extract_DATA( \n",
    "                    modes[1][2].DATA,\n",
    "                    symbol=\"£\",\n",
    "                    parser=parseF,\n",
    "                    transformer=first,\n",
    "                    block_merger=first ) ;"
   ]
  },
  {
   "cell_type": "code",
   "execution_count": 125,
   "metadata": {},
   "outputs": [
    {
     "name": "stdout",
     "output_type": "stream",
     "text": [
      "  0.002136 seconds (897 allocations: 59.523 KiB)\n"
     ]
    }
   ],
   "source": [
    "@time mode_n = extract_DATA( \n",
    "                    modes[3][2].DATA,\n",
    "                    symbol=\"£\",\n",
    "                    parser=parseI,\n",
    "                    transformer=first,\n",
    "                    block_merger=first ) ;"
   ]
  },
  {
   "cell_type": "code",
   "execution_count": 126,
   "metadata": {},
   "outputs": [
    {
     "name": "stdout",
     "output_type": "stream",
     "text": [
      "  0.065211 seconds (112.43 k allocations: 5.722 MiB)\n"
     ]
    }
   ],
   "source": [
    "@time mode_vec = extract_DATA( \n",
    "                    modes[4][2].DATA,\n",
    "                    symbol=\"£\",\n",
    "                    parser=parseF,\n",
    "                    transformer=x->(x[1]+im*x[2]) ) ;"
   ]
  },
  {
   "cell_type": "code",
   "execution_count": 127,
   "metadata": {},
   "outputs": [],
   "source": [
    "X = collect(zip(last.(mode_n),last.(autoval),last.(mode_vec))) ;"
   ]
  },
  {
   "cell_type": "markdown",
   "metadata": {},
   "source": [
    "## 1.2 block starts with \"Representation\""
   ]
  },
  {
   "cell_type": "code",
   "execution_count": 128,
   "metadata": {},
   "outputs": [
    {
     "name": "stdout",
     "output_type": "stream",
     "text": [
      "  0.000394 seconds (4.03 k allocations: 250.906 KiB)\n"
     ]
    }
   ],
   "source": [
    "kws = [F.CODE[\"Representation\"],(F.CODE[\"mode\"],F.CODE[\"modes\"]),F.CODE[\"-\"],F.CODE[\"done\"]] ;\n",
    "@time Representation = get_n_blocks_by_codes(F.B, kws, n=4) ;"
   ]
  },
  {
   "cell_type": "code",
   "execution_count": 129,
   "metadata": {},
   "outputs": [],
   "source": [
    "RV(l,n) = extract_DATA( \n",
    "            Representation[l][2].DATA,\n",
    "            symbol=\"£\",\n",
    "            parser=parseF,\n",
    "            transformer=x->[x[2i-1]+im*x[2i] for i=1:length(x)÷2][n], ) ;\n",
    "RN(l,n) = extract_DATA( \n",
    "            Representation[l][2].DATA,\n",
    "            symbol=\"£\",\n",
    "            parser=parseI,\n",
    "            transformer=x->x[n],\n",
    "            block_merger=first ) ;\n",
    "RN(l,n) = extract_DATA( \n",
    "            Representation[l][2].DATA,\n",
    "            symbol=\"£\",\n",
    "            parser=parseI,\n",
    "            transformer=x->x[n],\n",
    "            block_merger=first ) ;"
   ]
  },
  {
   "cell_type": "code",
   "execution_count": 130,
   "metadata": {},
   "outputs": [],
   "source": [
    "X = []\n",
    "for i=1:(length(Representation)÷4)\n",
    "    Irreps = RN(4i-3,1)\n",
    "    Nmodes = RN(4i-3,2)\n",
    "    for n=1:length(Irreps)\n",
    "        (irrep,nmode) = (Irreps[n],Nmodes[n])\n",
    "        for k=1:nmode[2]\n",
    "            mode_n = RN(4i-1,k)[n]\n",
    "            vec    = RV(4i,  k)[n]\n",
    "            a = (x=irrep[1], irrep=irrep[2], mode=mode_n[2], vec=vec[2])\n",
    "            push!(X,a)\n",
    "        end\n",
    "    end\n",
    "end"
   ]
  },
  {
   "cell_type": "code",
   "execution_count": 131,
   "metadata": {
    "collapsed": true
   },
   "outputs": [
    {
     "name": "stdout",
     "output_type": "stream",
     "text": [
      "(1277:1277, 1, 1)\n",
      "(1277:1277, 1, 2)\n",
      "(1277:1277, 1, 3)\n",
      "(1292:1292, 2, 4)\n",
      "(1292:1292, 2, 5)\n",
      "(1292:1292, 2, 6)\n",
      "(1307:1307, 3, 7)\n",
      "(1307:1307, 3, 8)\n",
      "(1307:1307, 3, 9)\n",
      "(1322:1322, 4, 10)\n",
      "(1322:1322, 4, 11)\n",
      "(1322:1322, 4, 12)\n",
      "(5215:5215, 1, 1)\n",
      "(5215:5215, 1, 2)\n",
      "(5230:5230, 2, 3)\n",
      "(5245:5245, 3, 4)\n",
      "(5245:5245, 3, 5)\n",
      "(5260:5260, 4, 6)\n",
      "(5260:5260, 4, 7)\n",
      "(5275:5275, 5, 8)\n",
      "(5290:5290, 6, 9)\n",
      "(5305:5305, 7, 10)\n",
      "(5305:5305, 7, 11)\n",
      "(5320:5320, 8, 12)\n",
      "(9231:9231, 1, 1)\n",
      "(9246:9246, 2, 2)\n",
      "(9246:9246, 2, 3)\n",
      "(9261:9261, 3, 4)\n",
      "(9276:9276, 4, 5)\n",
      "(9291:9291, 5, 6)\n",
      "(9306:9306, 6, 7)\n",
      "(9306:9306, 6, 8)\n",
      "(9321:9321, 7, 9)\n",
      "(9336:9336, 8, 10)\n",
      "(9351:9351, 9, 11)\n",
      "(9351:9351, 9, 12)\n",
      "(11780:11780, 1, 1)\n",
      "(11795:11795, 2, 2)\n",
      "(11795:11795, 2, 3)\n",
      "(11795:11795, 2, 4)\n",
      "(11810:11810, 3, 5)\n",
      "(11810:11810, 3, 6)\n",
      "(11810:11810, 3, 7)\n",
      "(11825:11825, 4, 8)\n",
      "(11825:11825, 4, 9)\n",
      "(11840:11840, 5, 10)\n",
      "(11840:11840, 5, 11)\n",
      "(11840:11840, 5, 12)\n"
     ]
    }
   ],
   "source": [
    "[(X[i].x, X[i].irrep, X[i].mode) for i=1:length(X)] .|> println;"
   ]
  },
  {
   "cell_type": "markdown",
   "metadata": {},
   "source": [
    "## 1.3 \"Representation #  1 mode #   1 \""
   ]
  },
  {
   "cell_type": "code",
   "execution_count": 132,
   "metadata": {},
   "outputs": [
    {
     "name": "stdout",
     "output_type": "stream",
     "text": [
      "  0.000431 seconds (4.68 k allocations: 287.938 KiB)\n"
     ]
    }
   ],
   "source": [
    "kws = [F.CODE[\"Representation\"],(F.CODE[\"mode\"],F.CODE[\"modes\"]),F.CODE[\"#\"]] ;\n",
    "kws_stop = [F.CODE[\"Number\"],F.CODE[\"star\"]] ;\n",
    "@time RepresentationSCF = get_blocks_max_by_codes(F.B, kws, kws_stop, n=600) ;"
   ]
  },
  {
   "cell_type": "code",
   "execution_count": 18,
   "metadata": {},
   "outputs": [
    {
     "name": "stdout",
     "output_type": "stream",
     "text": [
      "[1, 2, 3, 4, 5, 6, 7, 8, 9, 10, 11, 12, 13, 14, 15, 16, 17, 18, 19, 20, 21, 22, 23, 24, 25, 26, 27, 28, 29, 1, 2, 3, 4, 5, 6, 7, 8, 9, 10, 11, 12, 13, 14, 15, 16, 17, 18, 19, 20, 21, 22, 23, 24, 25, 26, 27, 28, 29, 1, 2, 3, 4, 5, 6, 7, 8, 9, 10, 11, 12, 13, 14, 15, 16, 17, 18, 19, 20, 21, 22, 23, 24, 25, 26, 27, 28, 29, 1, 2, 3, 4, 5, 6, 7, 8, 9, 10, 11, 12, 13, 14, 15, 16, 17, 18, 19, 20, 21, 22, 23, 24, 25, 26, 27, 28, 29, 1, 2, 3, 4, 5, 6, 7, 8, 1, 2, 3, 4, 5, 6, 7, 8, 1, 2, 3, 4, 5, 6, 7, 8, 1, 2, 3, 4, 5, 6, 7, 8, 1, 2, 3, 4, 5, 6, 7, 8, 1, 2, 3, 4, 5, 6, 7, 8, 1, 2, 3, 4, 5, 6, 7, 8, 1, 2, 3, 4, 5, 6, 7, 8, 1, 2, 3, 4, 5, 6, 7, 8, 1, 2, 3, 4, 5, 6, 7, 8, 1, 2, 3, 4, 5, 6, 7, 8, 1, 2, 3, 4, 5, 6, 7, 8, 1, 2, 3, 4, 5, 6, 7, 8, 1, 2, 3, 4, 5, 6, 7, 8, 1, 2, 3, 4, 5, 6, 7, 8, 1, 2, 3, 4, 5, 6, 7, 8, 1, 2, 3, 4, 5, 6, 7, 8, 1, 2, 3, 4, 5, 6, 7, 8, 1, 2, 3, 4, 5, 6, 7, 8, 1, 2, 3, 4, 5, 6, 7, 8, 1, 2, 3, 4, 5, 6, 7, 8, 1, 2, 3, 4, 5, 6, 7, 8]"
     ]
    }
   ],
   "source": [
    "RepresentationSCF .|> first |> print"
   ]
  },
  {
   "cell_type": "code",
   "execution_count": 133,
   "metadata": {
    "collapsed": true
   },
   "outputs": [
    {
     "name": "stdout",
     "output_type": "stream",
     "text": [
      "     Representation #  1 modes #   1  2  3\n",
      "---\n",
      "\n",
      "     Representation #  2 modes #   4  5  6\n",
      "---\n",
      "\n",
      "     Representation #  3 modes #   7  8  9\n",
      "---\n",
      "\n",
      "     Representation #  4 modes #  10 11 12\n",
      "---\n",
      "\n",
      "     Representation #  1 modes #   1  2\n",
      "---\n",
      "\n",
      "     Representation #  2 mode #   3\n",
      "---\n",
      "\n",
      "     Representation #  3 modes #   4  5\n",
      "---\n",
      "\n",
      "     Representation #  4 modes #   6  7\n",
      "---\n",
      "\n",
      "     Representation #  5 mode #   8\n",
      "---\n",
      "\n",
      "     Representation #  6 mode #   9\n",
      "---\n",
      "\n",
      "     Representation #  7 modes #  10 11\n",
      "---\n",
      "\n",
      "     Representation #  8 mode #  12\n",
      "---\n",
      "\n",
      "     Representation #  1 mode #   1\n",
      "---\n",
      "\n",
      "     Representation #  2 modes #   2  3\n",
      "---\n",
      "\n",
      "     Representation #  3 mode #   4\n",
      "---\n",
      "\n",
      "     Representation #  4 mode #   5\n",
      "---\n",
      "\n",
      "     Representation #  5 mode #   6\n",
      "---\n",
      "\n",
      "     Representation #  6 modes #   7  8\n",
      "---\n",
      "\n",
      "     Representation #  7 mode #   9\n",
      "---\n",
      "\n",
      "     Representation #  8 mode #  10\n",
      "---\n",
      "\n",
      "     Representation #  9 modes #  11 12\n",
      "---\n",
      "\n",
      "     Representation #  1 mode #   1\n",
      "---\n",
      "\n",
      "     Representation #  2 modes #   2  3  4\n",
      "---\n",
      "\n",
      "     Representation #  3 modes #   5  6  7\n",
      "---\n",
      "\n",
      "     Representation #  4 modes #   8  9\n",
      "---\n",
      "\n",
      "     Representation #  5 modes #  10 11 12\n",
      "---\n",
      "\n"
     ]
    }
   ],
   "source": [
    "[join(F.LINES[RepresentationSCF[k][2].x],\"\\n\")*\"\\n---\\n\" for k=1:length(RepresentationSCF) \n",
    "        if RepresentationSCF[k][1]==1] .|> println;"
   ]
  },
  {
   "cell_type": "code",
   "execution_count": null,
   "metadata": {},
   "outputs": [],
   "source": []
  },
  {
   "cell_type": "markdown",
   "metadata": {},
   "source": [
    "# example 2 : bands"
   ]
  },
  {
   "cell_type": "code",
   "execution_count": 134,
   "metadata": {},
   "outputs": [
    {
     "name": "stdout",
     "output_type": "stream",
     "text": [
      "  0.000347 seconds (2.61 k allocations: 220.438 KiB)\n"
     ]
    }
   ],
   "source": [
    "kws = [F.CODE[\"PWs)\"], F.CODE[\"bands\"], F.CODE[\"__EV__\"]]\n",
    "@time bands = get_n_blocks_by_codes(F.B, kws, n=2) ;"
   ]
  },
  {
   "cell_type": "code",
   "execution_count": 135,
   "metadata": {},
   "outputs": [],
   "source": [
    "BND_en(l) = extract_DATA( \n",
    "                bands[l][2].DATA,\n",
    "                symbol=\"£\",\n",
    "                parser=parseF,\n",
    "                block_merger=vc ) ;\n",
    "\n",
    "BND_k(l) = extract_DATA( \n",
    "                bands[l][2].DATA,\n",
    "                symbol=\"£\",\n",
    "                parser=parseF,\n",
    "                transformer=x->x[1:3],\n",
    "                block_merger=first ) ;"
   ]
  },
  {
   "cell_type": "code",
   "execution_count": 136,
   "metadata": {},
   "outputs": [],
   "source": [
    "X = Tuple{UnitRange{Int},UnitRange{Int},Vector{Float64},Vector{Float64}}[]\n",
    "for i=1:(length(bands)÷2)\n",
    "    X = Tuple{UnitRange{Int},UnitRange{Int},Vector{Float64},Vector{Float64}}[X; collect(\n",
    "            zip(first.(BND_k(2i-1)), first.(BND_en(2i)), last.(BND_k(2i-1)), last.(BND_en(2i)))\n",
    "        )]\n",
    "end"
   ]
  },
  {
   "cell_type": "code",
   "execution_count": 137,
   "metadata": {},
   "outputs": [
    {
     "data": {
      "text/plain": [
       "(2507:2507, 2508:2510, [0.0417, 0.0417, 0.0417], [-74.2071, -36.0245, -36.0245, -36.0245, -11.982, -11.0533, -11.0533, 3.0571, 3.0748, 3.0748  …  4.9953, 5.1418, 5.3487, 5.3622, 5.3622, 6.5036, 6.5664, 6.5664, 11.6726, 11.6726])"
      ]
     },
     "execution_count": 137,
     "metadata": {},
     "output_type": "execute_result"
    }
   ],
   "source": [
    "X[1]"
   ]
  },
  {
   "cell_type": "code",
   "execution_count": null,
   "metadata": {},
   "outputs": [],
   "source": []
  },
  {
   "cell_type": "markdown",
   "metadata": {},
   "source": [
    "# example 3 : isym"
   ]
  },
  {
   "cell_type": "code",
   "execution_count": 138,
   "metadata": {},
   "outputs": [
    {
     "name": "stdout",
     "output_type": "stream",
     "text": [
      "  0.000400 seconds (3.33 k allocations: 262.062 KiB)\n"
     ]
    }
   ],
   "source": [
    "@time isym = get_n_blocks_by_code(F.B, F.CODE[\"isym\"], n=5) ;"
   ]
  },
  {
   "cell_type": "code",
   "execution_count": 140,
   "metadata": {},
   "outputs": [
    {
     "data": {
      "text/plain": [
       "isym_cryst (generic function with 1 method)"
      ]
     },
     "execution_count": 140,
     "metadata": {},
     "output_type": "execute_result"
    }
   ],
   "source": [
    "isym_n(l) = extract_DATA( \n",
    "                isym[l][2].DATA,\n",
    "                symbol=\"£\",\n",
    "                parser=parseI,\n",
    "                transformer=first,\n",
    "                block_merger=first ) ;\n",
    "\n",
    "isym_miller(l) = extract_DATA( \n",
    "                isym[l][2].DATA,\n",
    "                symbol=\"__MILLER__\",\n",
    "                parser=parseEval,\n",
    "                transformer=x->(length(x)==1 ? x[1] : [0,0,0]),\n",
    "                block_merger=first ) ;\n",
    "\n",
    "isym_cart1(l) = extract_DATA( \n",
    "                isym[l][2].DATA,\n",
    "                symbol=\"£\",\n",
    "                parser=parseF,\n",
    "                transformer=x->x[2:4],\n",
    "                block_merger=first ) ;\n",
    "\n",
    "isym_cart2(l) = extract_DATA( \n",
    "                isym[l][2].DATA,\n",
    "                symbol=\"£\",\n",
    "                parser=parseF,\n",
    "                block_merger=hc ) ;\n",
    "\n",
    "isym_cart(l) = [first(p1[1]):last(p2[1])=>hcat(p1[2],p2[2]) for (p1,p2) ∈ zip(isym_cart1(l),isym_cart2(l+1))]\n",
    "\n",
    "\n",
    "isym_cryst1(l) = extract_DATA( \n",
    "                isym[l][2].DATA,\n",
    "                symbol=\"£\",\n",
    "                parser=parseI,\n",
    "                transformer=x->x[2:4],\n",
    "                block_merger=first ) ;\n",
    "\n",
    "isym_cryst2(l) = extract_DATA( \n",
    "                isym[l][2].DATA,\n",
    "                symbol=\"£\",\n",
    "                parser=parseI,\n",
    "                block_merger=hc ) ;\n",
    "\n",
    "\n",
    "isym_cryst(l) = [first(p1[1]):last(p2[1])=>hcat(p1[2],p2[2]) for (p1,p2) ∈ zip(isym_cryst1(l),isym_cryst2(l+1))]"
   ]
  },
  {
   "cell_type": "code",
   "execution_count": 141,
   "metadata": {},
   "outputs": [],
   "source": [
    "TTYPE = Tuple{Int,UnitRange{Int},Vector{Int},Matrix{Int},Matrix{Float64}}\n",
    "X = TTYPE[]\n",
    "for i=1:(length(isym)÷5)\n",
    "    X = TTYPE[X; collect(\n",
    "            zip(last.(isym_n(5i-4)), first.(isym_n(5i-4)),  last.(isym_miller(5i-4)), \n",
    "                last.(isym_cryst(5i-3)), last.(isym_cart(5i-1)) )\n",
    "        )]\n",
    "end"
   ]
  },
  {
   "cell_type": "code",
   "execution_count": 142,
   "metadata": {},
   "outputs": [
    {
     "data": {
      "text/plain": [
       "49-element Array{Int64,1}:\n",
       "  1\n",
       "  2\n",
       "  3\n",
       "  4\n",
       "  5\n",
       "  6\n",
       "  7\n",
       "  8\n",
       "  9\n",
       " 10\n",
       " 11\n",
       " 12\n",
       " 13\n",
       "  ⋮\n",
       " 38\n",
       " 39\n",
       " 40\n",
       " 41\n",
       " 42\n",
       " 43\n",
       " 44\n",
       " 45\n",
       " 46\n",
       " 47\n",
       " 48\n",
       " 49"
      ]
     },
     "execution_count": 142,
     "metadata": {},
     "output_type": "execute_result"
    }
   ],
   "source": [
    "(X .|> first) |> unique"
   ]
  },
  {
   "cell_type": "code",
   "execution_count": null,
   "metadata": {},
   "outputs": [],
   "source": []
  },
  {
   "cell_type": "code",
   "execution_count": null,
   "metadata": {},
   "outputs": [],
   "source": []
  },
  {
   "cell_type": "code",
   "execution_count": null,
   "metadata": {},
   "outputs": [],
   "source": []
  },
  {
   "cell_type": "code",
   "execution_count": 26,
   "metadata": {
    "scrolled": true
   },
   "outputs": [
    {
     "name": "stdout",
     "output_type": "stream",
     "text": [
      "  0.000450 seconds (2.94 k allocations: 241.641 KiB)\n"
     ]
    }
   ],
   "source": [
    "@time Q = get_DATA_n_by_codes(F.B, [F.CODE[\"Calculation\"],F.CODE[\"of\"],F.CODE[\"q\"],F.CODE[\"=\"]], n=20) ;"
   ]
  },
  {
   "cell_type": "code",
   "execution_count": 28,
   "metadata": {},
   "outputs": [
    {
     "data": {
      "text/plain": [
       "1-element Array{Pair{UnitRange{Int64},Array{Array{Pair{String,Any},1},1}},1}:\n",
       " 778:778 => [[\"Atoms\" => nothing, \"inside\" => nothing, \"the\" => nothing, \"unit\" => nothing, \"cell:\" => nothing]]"
      ]
     },
     "execution_count": 28,
     "metadata": {},
     "output_type": "execute_result"
    }
   ],
   "source": [
    "Q[19][2].DATA"
   ]
  },
  {
   "cell_type": "code",
   "execution_count": null,
   "metadata": {},
   "outputs": [],
   "source": []
  }
 ],
 "metadata": {
  "kernelspec": {
   "display_name": "Julia 1.5.3",
   "language": "julia",
   "name": "julia-1.5"
  },
  "language_info": {
   "file_extension": ".jl",
   "mimetype": "application/julia",
   "name": "julia",
   "version": "1.5.3"
  }
 },
 "nbformat": 4,
 "nbformat_minor": 4
}
